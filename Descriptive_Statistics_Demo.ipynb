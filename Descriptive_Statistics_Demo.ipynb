{
 "cells": [
  {
   "cell_type": "code",
   "execution_count": 15,
   "id": "efbc61fe",
   "metadata": {},
   "outputs": [
    {
     "name": "stdout",
     "output_type": "stream",
     "text": [
      "       Name  Salary\n",
      "0  Shashwat   50000\n",
      "1   Keshika   54000\n",
      "2   Shivram   50000\n",
      "3   Kalidas  189000\n",
      "4    Siddhi   55000\n"
     ]
    }
   ],
   "source": [
    "import numpy as np\n",
    "import pandas as pd\n",
    "\n",
    "df = pd.DataFrame({\n",
    "    'Name': [\n",
    "        \"Shashwat\",\n",
    "        \"Keshika\",\n",
    "        \"Shivram\",\n",
    "        \"Kalidas\", \n",
    "        \"Siddhi\",\n",
    "    ],\n",
    "    'Salary': [\n",
    "        50000,\n",
    "        54000,\n",
    "        50000,\n",
    "        189000,\n",
    "        55000\n",
    "    ]\n",
    "})\n",
    "print(df.head())"
   ]
  },
  {
   "cell_type": "code",
   "execution_count": 16,
   "id": "539e955e",
   "metadata": {},
   "outputs": [
    {
     "name": "stdout",
     "output_type": "stream",
     "text": [
      "DESCRIPTIVE STATISTICS\n",
      "-----------------------\n",
      "Mean: 79600.0\n",
      "Median: 54000.0\n",
      "Mode: 0    50000\n",
      "Name: Salary, dtype: int64\n",
      "Max: 189000\n",
      "Min: 50000\n",
      "Std: 61198.85619846175\n"
     ]
    }
   ],
   "source": [
    "#Descriptive Statistics\n",
    "col = df[\"Salary\"]\n",
    "print(\"DESCRIPTIVE STATISTICS\")\n",
    "print(\"-----------------------\")\n",
    "print(\"Mean: \"+str(col.mean()))\n",
    "print(\"Median: \"+str(col.median()))\n",
    "print(\"Mode: \"+str(col.mode()))\n",
    "print(\"Max: \"+str(col.max()))\n",
    "print(\"Min: \"+str(col.min()))\n",
    "print(\"Std: \"+str(col.std()))"
   ]
  },
  {
   "cell_type": "code",
   "execution_count": null,
   "id": "6941a2b4",
   "metadata": {},
   "outputs": [],
   "source": []
  }
 ],
 "metadata": {
  "kernelspec": {
   "display_name": "Python 3 (ipykernel)",
   "language": "python",
   "name": "python3"
  },
  "language_info": {
   "codemirror_mode": {
    "name": "ipython",
    "version": 3
   },
   "file_extension": ".py",
   "mimetype": "text/x-python",
   "name": "python",
   "nbconvert_exporter": "python",
   "pygments_lexer": "ipython3",
   "version": "3.9.12"
  }
 },
 "nbformat": 4,
 "nbformat_minor": 5
}
